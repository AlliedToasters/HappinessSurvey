{
 "cells": [
  {
   "cell_type": "code",
   "execution_count": 1,
   "metadata": {
    "collapsed": true,
    "run_control": {
     "frozen": false,
     "read_only": false
    }
   },
   "outputs": [],
   "source": [
    "import pandas as pd\n",
    "import numpy as np\n",
    "import scipy\n",
    "import matplotlib.pyplot as plt\n",
    "%matplotlib inline\n",
    "\n",
    "from sklearn import ensemble\n",
    "from sklearn import datasets\n",
    "from sklearn.utils import shuffle\n",
    "from sklearn.metrics import mean_squared_error"
   ]
  },
  {
   "cell_type": "markdown",
   "metadata": {},
   "source": [
    "BONUS FEATURES"
   ]
  },
  {
   "cell_type": "code",
   "execution_count": 2,
   "metadata": {
    "collapsed": true
   },
   "outputs": [],
   "source": [
    "df = pd.read_csv('ESSdata_Thinkful.csv').dropna()\n",
    "\n"
   ]
  },
  {
   "cell_type": "code",
   "execution_count": 3,
   "metadata": {
    "collapsed": true
   },
   "outputs": [],
   "source": [
    "y = df['partner'] - 1\n",
    "X = df.loc[:, ~df.columns.isin(['partner', 'cntry', 'idno'])]\n",
    "\n",
    "# Make the categorical variable 'country' into dummies.\n",
    "X = pd.concat([X, pd.get_dummies(df['cntry'])], axis=1)\n",
    "\n",
    "# Create training and test sets.\n",
    "offset = int(X.shape[0] * 0.9)\n",
    "\n",
    "# Put 90% of the data in the training set.\n",
    "X_train, y_train = X[:offset], y[:offset]\n",
    "\n",
    "# And put 10% in the test set.\n",
    "X_test, y_test = X[offset:], y[offset:]"
   ]
  },
  {
   "cell_type": "markdown",
   "metadata": {},
   "source": [
    "Since we're now working with a binary outcome, we've switched to a classifier.  Now our loss function can't be the residuals.  Our options are \"deviance\", or \"exponential\".  Deviance is used for logistic regression, and we'll try that here."
   ]
  },
  {
   "cell_type": "code",
   "execution_count": 4,
   "metadata": {},
   "outputs": [
    {
     "name": "stdout",
     "output_type": "stream",
     "text": [
      "training_confusion: \n",
      " col_0     0.0   1.0   All\n",
      "partner                  \n",
      "0.0      4167   341  4508\n",
      "1.0      1291  1533  2824\n",
      "All      5458  1874  7332 \n",
      "Training set accuracy: 0.7774140752864157\n",
      " Percent Type I errors: 0.04650845608292417\n",
      " Percent Type II errors: 0.17607746863066012\n",
      "\n",
      " test_confusion: \n",
      " col_0    0.0  1.0  All\n",
      "partner               \n",
      "0.0      454   51  505\n",
      "1.0      151  159  310\n",
      "All      605  210  815 \n",
      "Test set accuracy: 0.7521472392638037\n",
      " Percent Type I errors: 0.06257668711656442\n",
      " Percent Type II errors: 0.18527607361963191\n"
     ]
    }
   ],
   "source": [
    "# We'll make 500 iterations, use 2-deep trees, and set our loss function.\n",
    "params = {'n_estimators': 500,\n",
    "          'max_depth': 2,\n",
    "          'loss': 'deviance'}\n",
    "\n",
    "# Initialize and fit the model.\n",
    "clf = ensemble.GradientBoostingClassifier(**params)\n",
    "clf.fit(X_train, y_train)\n",
    "\n",
    "predict_train = clf.predict(X_train)\n",
    "predict_test = clf.predict(X_test)\n",
    "\n",
    "# Accuracy tables.\n",
    "table_train = pd.crosstab(y_train, predict_train, margins=True)\n",
    "table_test = pd.crosstab(y_test, predict_test, margins=True)\n",
    "\n",
    "train_tI_errors = table_train.loc[0.0,1.0] / table_train.loc['All','All']\n",
    "train_tII_errors = table_train.loc[1.0,0.0] / table_train.loc['All','All']\n",
    "\n",
    "test_tI_errors = table_test.loc[0.0,1.0]/table_test.loc['All','All']\n",
    "test_tII_errors = table_test.loc[1.0,0.0]/table_test.loc['All','All']\n",
    "\n",
    "print(\n",
    "    'training_confusion: \\n',\n",
    "     table_train,\n",
    "    '\\nTraining set accuracy: {}\\n'.format((table_train.iloc[0, 0] + table_train.iloc[1, 1])/table_train.iloc[2, 2]),\n",
    "    'Percent Type I errors: {}\\n'.format(train_tI_errors),\n",
    "    'Percent Type II errors: {}\\n\\n'.format(train_tII_errors),\n",
    "    \n",
    "    'test_confusion: \\n' ,\n",
    "     table_test,\n",
    "    '\\nTest set accuracy: {}\\n'.format((table_test.iloc[0, 0] + table_test.iloc[1, 1])/table_test.iloc[2, 2]),\n",
    "    'Percent Type I errors: {}\\n'.format(test_tI_errors),\n",
    "    'Percent Type II errors: {}'.format(test_tII_errors)\n",
    ")\n"
   ]
  },
  {
   "cell_type": "code",
   "execution_count": 6,
   "metadata": {},
   "outputs": [
    {
     "name": "stdout",
     "output_type": "stream",
     "text": [
      "training_confusion: \n",
      " col_0     0.0   1.0   All\n",
      "partner                  \n",
      "0.0      4171   337  4508\n",
      "1.0      1307  1517  2824\n",
      "All      5478  1854  7332 \n",
      "Training set accuracy: 0.7757774140752864\n",
      " Percent Type I errors: 0.04596290234588107\n",
      " Percent Type II errors: 0.1782596835788325\n",
      "\n",
      " test_confusion: \n",
      " col_0    0.0  1.0  All\n",
      "partner               \n",
      "0.0      462   43  505\n",
      "1.0      151  159  310\n",
      "All      613  202  815 \n",
      "Test set accuracy: 0.7619631901840491\n",
      " Percent Type I errors: 0.05276073619631902\n",
      " Percent Type II errors: 0.18527607361963191\n"
     ]
    }
   ],
   "source": [
    "# Best improvement was from changing parameters:\n",
    "params = {'n_estimators': 1000,\n",
    "          'max_depth': 3,\n",
    "          'loss': 'deviance',\n",
    "          'learning_rate': .017,\n",
    "          'subsample': 1,\n",
    "          'min_samples_leaf': 92}\n",
    "\n",
    "\n",
    "clf = ensemble.GradientBoostingClassifier(**params)\n",
    "clf.fit(X_train, y_train)\n",
    "\n",
    "predict_train = clf.predict(X_train)\n",
    "predict_test = clf.predict(X_test)\n",
    "table_train = pd.crosstab(y_train, predict_train, margins=True)\n",
    "table_test = pd.crosstab(y_test, predict_test, margins=True)\n",
    "\n",
    "train_tI_errors = table_train.loc[0.0,1.0] / table_train.loc['All','All']\n",
    "train_tII_errors = table_train.loc[1.0,0.0] / table_train.loc['All','All']\n",
    "test_tI_errors = table_test.loc[0.0,1.0]/table_test.loc['All','All']\n",
    "test_tII_errors = table_test.loc[1.0,0.0]/table_test.loc['All','All']\n",
    "\n",
    "print(\n",
    "    'training_confusion: \\n',\n",
    "     table_train,\n",
    "    '\\nTraining set accuracy: {}\\n'.format((table_train.iloc[0, 0] + table_train.iloc[1, 1])/table_train.iloc[2, 2]),\n",
    "    'Percent Type I errors: {}\\n'.format(train_tI_errors),\n",
    "    'Percent Type II errors: {}\\n\\n'.format(train_tII_errors),\n",
    "    \n",
    "    'test_confusion: \\n' ,\n",
    "     table_test,\n",
    "    '\\nTest set accuracy: {}\\n'.format((table_test.iloc[0, 0] + table_test.iloc[1, 1])/table_test.iloc[2, 2]),\n",
    "    'Percent Type I errors: {}\\n'.format(test_tI_errors),\n",
    "    'Percent Type II errors: {}'.format(test_tII_errors)\n",
    ")"
   ]
  },
  {
   "cell_type": "code",
   "execution_count": null,
   "metadata": {
    "collapsed": true
   },
   "outputs": [],
   "source": []
  }
 ],
 "metadata": {
  "hide_input": false,
  "kernelspec": {
   "display_name": "Python 3",
   "language": "python",
   "name": "python3"
  },
  "language_info": {
   "codemirror_mode": {
    "name": "ipython",
    "version": 3
   },
   "file_extension": ".py",
   "mimetype": "text/x-python",
   "name": "python",
   "nbconvert_exporter": "python",
   "pygments_lexer": "ipython3",
   "version": "3.6.1"
  },
  "toc": {
   "colors": {
    "hover_highlight": "#DAA520",
    "running_highlight": "#FF0000",
    "selected_highlight": "#FFD700"
   },
   "moveMenuLeft": true,
   "nav_menu": {
    "height": "59px",
    "width": "252px"
   },
   "navigate_menu": true,
   "number_sections": true,
   "sideBar": true,
   "threshold": 4,
   "toc_cell": false,
   "toc_section_display": "block",
   "toc_window_display": false
  }
 },
 "nbformat": 4,
 "nbformat_minor": 2
}
